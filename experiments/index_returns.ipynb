{
 "cells": [
  {
   "cell_type": "code",
   "execution_count": 8,
   "metadata": {},
   "outputs": [
    {
     "name": "stderr",
     "output_type": "stream",
     "text": [
      "[*********************100%%**********************]  1 of 1 completed\n"
     ]
    }
   ],
   "source": [
    "import yfinance as yf\n",
    "import numpy as np\n",
    "import pandas as pd\n",
    "\n",
    "start = \"1990-01-01\"\n",
    "end = \"2024-05-28\"\n",
    "data = yf.download(\"^GSPC\", start=start, end=end)\n",
    "log_returns = np.log(data[\"Close\"].values[1:] / data[\"Close\"][:-1].values)[:-1]\n",
    "simple_returns = (data[\"Close\"].values[1:] / data[\"Close\"][:-1].values) - 1\n",
    "simple_returns = simple_returns[:-1]"
   ]
  },
  {
   "cell_type": "code",
   "execution_count": 15,
   "metadata": {},
   "outputs": [
    {
     "name": "stdout",
     "output_type": "stream",
     "text": [
      "Mean for 252 days:  (0.09525275056657732, 0.09525275056657723, 0.09525275056657732)\n",
      "Mean for 10 years:  (0.11414749114634064, 0.07912386981848307, 1.1414749114634064)\n",
      "Log return mean:  0.0780703534557331\n",
      "Log return std:  0.18126968484954747\n",
      "Log return mean 10 years:  1.1830075466211754\n",
      "Simple return mean:  0.09449460208027609\n",
      "Simple return std:  0.18100709699747355\n",
      "Simple daily mean compounded:  0.09908376277425424\n",
      "Yearly mean:  0.09970825703283519\n",
      "Adjusted log return mean:  0.09449970277846023\n"
     ]
    }
   ],
   "source": [
    "log_return_mean = np.mean(log_returns) * 252\n",
    "log_return_std = np.std(log_returns) * np.sqrt(252)\n",
    "\n",
    "simple_daily_mean_compounded = (1+np.mean(simple_returns)) ** 252 -1\n",
    "simple_return_mean = np.mean(simple_returns) * 252\n",
    "simple_return_std = np.std(simple_returns) * np.sqrt(252)\n",
    "\n",
    "yearly_mean = data[\"Close\"].resample(\"YE\").ffill().pct_change().dropna().mean()\n",
    "\n",
    "def mean_for_holding_period(holding_period):\n",
    "    returns = data[\"Close\"][holding_period:].values / data[\"Close\"][:-holding_period].values - 1\n",
    "    mean = np.mean(returns)\n",
    "    return mean * 252 / holding_period, (1+mean)**(252/holding_period) - 1, mean\n",
    "\n",
    "print(\"Mean for 252 days: \", mean_for_holding_period(252))\n",
    "print(\"Mean for 10 years: \", mean_for_holding_period(2520))\n",
    "\n",
    "print(\"Log return mean: \", log_return_mean)\n",
    "print(\"Log return std: \", log_return_std)\n",
    "print(\"Log return mean 10 years: \", (np.exp(log_return_mean * 10)-1))\n",
    "print(\"Simple return mean: \", simple_return_mean)\n",
    "print(\"Simple return std: \", simple_return_std)\n",
    "\n",
    "print(\"Simple daily mean compounded: \", simple_daily_mean_compounded)\n",
    "print(\"Yearly mean: \", yearly_mean)\n",
    "\n",
    "adjusted_log_returns = log_return_mean + 0.5*log_return_std**2\n",
    "print(\"Adjusted log return mean: \", adjusted_log_returns)\n"
   ]
  }
 ],
 "metadata": {
  "kernelspec": {
   "display_name": "fin",
   "language": "python",
   "name": "python3"
  },
  "language_info": {
   "codemirror_mode": {
    "name": "ipython",
    "version": 3
   },
   "file_extension": ".py",
   "mimetype": "text/x-python",
   "name": "python",
   "nbconvert_exporter": "python",
   "pygments_lexer": "ipython3",
   "version": "3.10.13"
  }
 },
 "nbformat": 4,
 "nbformat_minor": 2
}
