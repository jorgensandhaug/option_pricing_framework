{
 "cells": [
  {
   "cell_type": "code",
   "execution_count": 2,
   "metadata": {},
   "outputs": [],
   "source": [
    "import numpy as np\n",
    "from scipy.stats import norm\n",
    "\n",
    "mean = 0.1\n",
    "sigma = 1  # Standard deviation for the lognormal distribution\n",
    "n = 10000  # Number of samples\n",
    "m = 100000  # Number of paths\n",
    "T = 1  # Time to maturity\n",
    "dt = T/n  # Time step\n",
    "\n",
    "# Generate n standard normal random variables\n",
    "norm_vars = np.random.normal(size=(m, n))\n",
    "stock_paths = 1*np.exp(np.cumsum((mean - 0.5*sigma**2)*dt + sigma*np.sqrt(dt)*norm_vars, axis=1))"
   ]
  },
  {
   "cell_type": "code",
   "execution_count": 3,
   "metadata": {},
   "outputs": [
    {
     "name": "stdout",
     "output_type": "stream",
     "text": [
      "Simple Returns - Mean: 0.0983852769255308, Standard Deviation: 0.9999311048773739\n",
      "Log Returns - Mean: -0.4015867035576596, Standard Deviation: 0.9998957971484547\n",
      "Log Returns Adjusted - Mean: 0.09830909901991225, Standard Deviation: 0.9998957971484547\n"
     ]
    }
   ],
   "source": [
    "# Calculate simple returns\n",
    "simple_returns = stock_paths[:, 1:]/stock_paths[:, :-1] - 1\n",
    "\n",
    "# Calculate log returns\n",
    "log_returns = np.log(stock_paths[:, 1:]/stock_paths[:, :-1])\n",
    "\n",
    "# Calculate sample mean and standard deviation for simple returns\n",
    "simple_means = np.mean(simple_returns, axis=1)\n",
    "simple_stds = np.std(simple_returns, axis=1)\n",
    "\n",
    "# Calculate sample mean and standard deviation for log returns\n",
    "log_means = np.mean(log_returns, axis=1)\n",
    "log_stds = np.std(log_returns, axis=1)\n",
    "\n",
    "\n",
    "# Calculate sample mean and standard deviation for simple returns\n",
    "simple_mean = np.mean(simple_means) * n\n",
    "simple_std = np.mean(simple_stds) * np.sqrt(n)\n",
    "\n",
    "# Calculate sample mean and standard deviation for log returns\n",
    "log_mean = np.mean(log_means) * n\n",
    "log_std = np.mean(log_stds) * np.sqrt(n)\n",
    "\n",
    "log_mean_adjusted = log_mean + 0.5*log_std**2\n",
    "\n",
    "\n",
    "\n",
    "# Print results\n",
    "print(f\"Simple Returns - Mean: {simple_mean}, Standard Deviation: {simple_std}\")\n",
    "print(f\"Log Returns - Mean: {log_mean}, Standard Deviation: {log_std}\")\n",
    "print(f\"Log Returns Adjusted - Mean: {log_mean_adjusted}, Standard Deviation: {log_std}\")"
   ]
  },
  {
   "cell_type": "code",
   "execution_count": 4,
   "metadata": {},
   "outputs": [
    {
     "data": {
      "text/plain": [
       "0.24997198126828368"
      ]
     },
     "execution_count": 4,
     "metadata": {},
     "output_type": "execute_result"
    }
   ],
   "source": [
    "squared_diff = (log_mean - simple_mean)**2\n",
    "squared_diff"
   ]
  }
 ],
 "metadata": {
  "kernelspec": {
   "display_name": "fin",
   "language": "python",
   "name": "python3"
  },
  "language_info": {
   "codemirror_mode": {
    "name": "ipython",
    "version": 3
   },
   "file_extension": ".py",
   "mimetype": "text/x-python",
   "name": "python",
   "nbconvert_exporter": "python",
   "pygments_lexer": "ipython3",
   "version": "3.10.13"
  }
 },
 "nbformat": 4,
 "nbformat_minor": 2
}
